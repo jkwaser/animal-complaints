{
 "cells": [
  {
   "cell_type": "markdown",
   "metadata": {},
   "source": [
    "This is an exploratory analysis of animal complaints in Brisbane. There are a few interesting things I'd like to show - animal complaints per suburb of course, but animal complaints per square kilometre and per person (by pulling suburb info as well) will be equally interesting. Trends over time - which suburbs have improved or gotten worse over a few quarters. "
   ]
  },
  {
   "cell_type": "code",
   "execution_count": 35,
   "metadata": {},
   "outputs": [],
   "source": [
    "import numpy as np\n",
    "import pandas as pd\n",
    "import matplotlib.pyplot as plt\n",
    "import seaborn as sns\n",
    "import datetime as dt"
   ]
  },
  {
   "cell_type": "code",
   "execution_count": 16,
   "metadata": {},
   "outputs": [],
   "source": [
    "apr_to_jun_19 = pd.read_csv(\"/home/jack/AnimalC/cars-bis-open-data-animal-related-complaints-apr-jun-2019.csv\")"
   ]
  },
  {
   "cell_type": "code",
   "execution_count": 17,
   "metadata": {},
   "outputs": [],
   "source": [
    "apr_to_jun_18 = pd.read_csv(\"/home/jack/AnimalC/cars-bis-open-data-animal-related-complaints-apr-to-jun-2018.csv\")"
   ]
  },
  {
   "cell_type": "code",
   "execution_count": 18,
   "metadata": {},
   "outputs": [],
   "source": [
    "jan_to_mar_19 = pd.read_csv(\"/home/jack/AnimalC/cars-bis-open-data-animal-related-complaints-jan-mar-2019.csv\")"
   ]
  },
  {
   "cell_type": "code",
   "execution_count": 19,
   "metadata": {},
   "outputs": [],
   "source": [
    "jan_to_mar_18 = pd.read_csv(\"/home/jack/AnimalC/cars-bis-open-data-animal-related-complaints-jan-to-mar-2018.csv\")"
   ]
  },
  {
   "cell_type": "code",
   "execution_count": 20,
   "metadata": {},
   "outputs": [],
   "source": [
    "jul_to_sep_18 = pd.read_csv(\"/home/jack/AnimalC/cars-bis-open-data-animal-related-complaints-jul-to-sep-2018.csv\")"
   ]
  },
  {
   "cell_type": "code",
   "execution_count": 21,
   "metadata": {},
   "outputs": [],
   "source": [
    "jul_to_sep_19 = pd.read_csv(\"/home/jack/AnimalC/cars-bis-open-data-animal-related-complaints-jul-to-sep-2019.csv\")"
   ]
  },
  {
   "cell_type": "code",
   "execution_count": 22,
   "metadata": {},
   "outputs": [],
   "source": [
    "oct_to_dec_18 = pd.read_csv(\"/home/jack/AnimalC/cars-bis-open-data-animal-related-complaints-oct-to-dec-2018.csv\")"
   ]
  },
  {
   "cell_type": "code",
   "execution_count": 23,
   "metadata": {},
   "outputs": [],
   "source": [
    "oct_to_dec_19 = pd.read_csv(\"/home/jack/AnimalC/cars-srsa-open-data-animal-related-complaints-oct-to-dec-2019.csv\")"
   ]
  },
  {
   "cell_type": "code",
   "execution_count": 24,
   "metadata": {},
   "outputs": [],
   "source": [
    "jan_to_mar_20 = pd.read_csv(\"/home/jack/AnimalC/cars-srsa-open-data-animal-related-complaints-jan-to-mar-2020.csv\")"
   ]
  },
  {
   "cell_type": "markdown",
   "metadata": {},
   "source": [
    "The first thing that needs doing is to make all this data one usable dataset. The data itself isn't dated, so the only way of knowing what date a complaint is from is by looking at the dataset it's from. "
   ]
  },
  {
   "cell_type": "code",
   "execution_count": 42,
   "metadata": {},
   "outputs": [],
   "source": [
    "apr_to_jun_19[\"Date\"] = np.datetime64('2019-05-01')"
   ]
  },
  {
   "cell_type": "markdown",
   "metadata": {},
   "source": [
    "For ease of charting later on a column is added to each dataframe with the date being the 1st of the middle month of the dataset in question. So Apr to June 19 has the date of each incident listed as 1 May 2019."
   ]
  },
  {
   "cell_type": "code",
   "execution_count": 45,
   "metadata": {},
   "outputs": [],
   "source": [
    "apr_to_jun_18[\"Date\"] = np.datetime64('2018-05-01')\n",
    "jan_to_mar_19[\"Date\"] = np.datetime64('2019-02-01')\n",
    "jan_to_mar_18[\"Date\"] = np.datetime64('2018-02-01')\n",
    "jul_to_sep_18[\"Date\"] = np.datetime64('2018-08-01')\n",
    "jul_to_sep_19[\"Date\"] = np.datetime64('2019-08-01')\n",
    "oct_to_dec_18[\"Date\"] = np.datetime64('2018-11-01')\n",
    "oct_to_dec_19[\"Date\"] = np.datetime64('2019-11-01')\n",
    "jan_to_mar_20[\"Date\"] = np.datetime64('2020-02-01')"
   ]
  },
  {
   "cell_type": "code",
   "execution_count": 62,
   "metadata": {},
   "outputs": [],
   "source": [
    "jan18_to_mar_20 = pd.concat([apr_to_jun_18, jan_to_mar_19, jan_to_mar_18, jul_to_sep_18, jul_to_sep_19, oct_to_dec_18, oct_to_dec_19, jan_to_mar_20])"
   ]
  },
  {
   "cell_type": "code",
   "execution_count": 63,
   "metadata": {},
   "outputs": [
    {
     "data": {
      "text/html": [
       "<div>\n",
       "<style scoped>\n",
       "    .dataframe tbody tr th:only-of-type {\n",
       "        vertical-align: middle;\n",
       "    }\n",
       "\n",
       "    .dataframe tbody tr th {\n",
       "        vertical-align: top;\n",
       "    }\n",
       "\n",
       "    .dataframe thead th {\n",
       "        text-align: right;\n",
       "    }\n",
       "</style>\n",
       "<table border=\"1\" class=\"dataframe\">\n",
       "  <thead>\n",
       "    <tr style=\"text-align: right;\">\n",
       "      <th></th>\n",
       "      <th>Category: Nature</th>\n",
       "      <th>Category: Type</th>\n",
       "      <th>Category: Reporting Level</th>\n",
       "      <th>Location: Suburb</th>\n",
       "      <th>Date</th>\n",
       "      <th>Office: Responsible Office</th>\n",
       "    </tr>\n",
       "  </thead>\n",
       "  <tbody>\n",
       "    <tr>\n",
       "      <th>0</th>\n",
       "      <td>Animal</td>\n",
       "      <td>Other Animal</td>\n",
       "      <td>Unregistered</td>\n",
       "      <td>MORNINGSIDE</td>\n",
       "      <td>2018-05-01</td>\n",
       "      <td>NaN</td>\n",
       "    </tr>\n",
       "    <tr>\n",
       "      <th>1</th>\n",
       "      <td>Animal</td>\n",
       "      <td>Other Animal</td>\n",
       "      <td>Fox</td>\n",
       "      <td>GUMDALE</td>\n",
       "      <td>2018-05-01</td>\n",
       "      <td>NaN</td>\n",
       "    </tr>\n",
       "    <tr>\n",
       "      <th>2</th>\n",
       "      <td>Animal</td>\n",
       "      <td>Cat</td>\n",
       "      <td>NaN</td>\n",
       "      <td>CARSELDINE</td>\n",
       "      <td>2018-05-01</td>\n",
       "      <td>NaN</td>\n",
       "    </tr>\n",
       "    <tr>\n",
       "      <th>3</th>\n",
       "      <td>Animal</td>\n",
       "      <td>Dog</td>\n",
       "      <td>Fencing Issues</td>\n",
       "      <td>ZILLMERE</td>\n",
       "      <td>2018-05-01</td>\n",
       "      <td>NaN</td>\n",
       "    </tr>\n",
       "    <tr>\n",
       "      <th>4</th>\n",
       "      <td>Animal</td>\n",
       "      <td>Dog</td>\n",
       "      <td>Odour</td>\n",
       "      <td>CAMP HILL</td>\n",
       "      <td>2018-05-01</td>\n",
       "      <td>NaN</td>\n",
       "    </tr>\n",
       "    <tr>\n",
       "      <th>...</th>\n",
       "      <td>...</td>\n",
       "      <td>...</td>\n",
       "      <td>...</td>\n",
       "      <td>...</td>\n",
       "      <td>...</td>\n",
       "      <td>...</td>\n",
       "    </tr>\n",
       "    <tr>\n",
       "      <th>2141</th>\n",
       "      <td>Animal</td>\n",
       "      <td>Attack</td>\n",
       "      <td>Attack On An Animal</td>\n",
       "      <td>ENOGGERA</td>\n",
       "      <td>2020-02-01</td>\n",
       "      <td>NaN</td>\n",
       "    </tr>\n",
       "    <tr>\n",
       "      <th>2142</th>\n",
       "      <td>Animal</td>\n",
       "      <td>Dog</td>\n",
       "      <td>Wandering</td>\n",
       "      <td>EVERTON PARK</td>\n",
       "      <td>2020-02-01</td>\n",
       "      <td>NaN</td>\n",
       "    </tr>\n",
       "    <tr>\n",
       "      <th>2143</th>\n",
       "      <td>Animal</td>\n",
       "      <td>Cat</td>\n",
       "      <td>Wandering</td>\n",
       "      <td>BRACKEN RIDGE</td>\n",
       "      <td>2020-02-01</td>\n",
       "      <td>NaN</td>\n",
       "    </tr>\n",
       "    <tr>\n",
       "      <th>2144</th>\n",
       "      <td>Animal</td>\n",
       "      <td>Dog</td>\n",
       "      <td>Fencing Issues</td>\n",
       "      <td>INALA</td>\n",
       "      <td>2020-02-01</td>\n",
       "      <td>NaN</td>\n",
       "    </tr>\n",
       "    <tr>\n",
       "      <th>2145</th>\n",
       "      <td>Animal</td>\n",
       "      <td>Other Animal</td>\n",
       "      <td>Fencing Issues</td>\n",
       "      <td>GORDON PARK</td>\n",
       "      <td>2020-02-01</td>\n",
       "      <td>NaN</td>\n",
       "    </tr>\n",
       "  </tbody>\n",
       "</table>\n",
       "<p>15274 rows × 6 columns</p>\n",
       "</div>"
      ],
      "text/plain": [
       "     Category: Nature Category: Type Category: Reporting Level  \\\n",
       "0              Animal   Other Animal              Unregistered   \n",
       "1              Animal   Other Animal                       Fox   \n",
       "2              Animal            Cat                       NaN   \n",
       "3              Animal            Dog            Fencing Issues   \n",
       "4              Animal            Dog                     Odour   \n",
       "...               ...            ...                       ...   \n",
       "2141           Animal         Attack       Attack On An Animal   \n",
       "2142           Animal            Dog                 Wandering   \n",
       "2143           Animal            Cat                 Wandering   \n",
       "2144           Animal            Dog            Fencing Issues   \n",
       "2145           Animal   Other Animal            Fencing Issues   \n",
       "\n",
       "     Location: Suburb       Date Office: Responsible Office  \n",
       "0         MORNINGSIDE 2018-05-01                        NaN  \n",
       "1             GUMDALE 2018-05-01                        NaN  \n",
       "2          CARSELDINE 2018-05-01                        NaN  \n",
       "3            ZILLMERE 2018-05-01                        NaN  \n",
       "4           CAMP HILL 2018-05-01                        NaN  \n",
       "...               ...        ...                        ...  \n",
       "2141         ENOGGERA 2020-02-01                        NaN  \n",
       "2142     EVERTON PARK 2020-02-01                        NaN  \n",
       "2143    BRACKEN RIDGE 2020-02-01                        NaN  \n",
       "2144            INALA 2020-02-01                        NaN  \n",
       "2145      GORDON PARK 2020-02-01                        NaN  \n",
       "\n",
       "[15274 rows x 6 columns]"
      ]
     },
     "execution_count": 63,
     "metadata": {},
     "output_type": "execute_result"
    }
   ],
   "source": [
    "jan18_to_mar_20"
   ]
  },
  {
   "cell_type": "code",
   "execution_count": 67,
   "metadata": {},
   "outputs": [],
   "source": [
    "# Responsible office only shows up in a single dataset here - not really useful for analysing them as a whole.\n",
    "del jan18_to_mar_20['Office: Responsible Office']"
   ]
  },
  {
   "cell_type": "code",
   "execution_count": 68,
   "metadata": {},
   "outputs": [
    {
     "data": {
      "text/html": [
       "<div>\n",
       "<style scoped>\n",
       "    .dataframe tbody tr th:only-of-type {\n",
       "        vertical-align: middle;\n",
       "    }\n",
       "\n",
       "    .dataframe tbody tr th {\n",
       "        vertical-align: top;\n",
       "    }\n",
       "\n",
       "    .dataframe thead th {\n",
       "        text-align: right;\n",
       "    }\n",
       "</style>\n",
       "<table border=\"1\" class=\"dataframe\">\n",
       "  <thead>\n",
       "    <tr style=\"text-align: right;\">\n",
       "      <th></th>\n",
       "      <th>Category: Nature</th>\n",
       "      <th>Category: Type</th>\n",
       "      <th>Category: Reporting Level</th>\n",
       "      <th>Location: Suburb</th>\n",
       "      <th>Date</th>\n",
       "    </tr>\n",
       "  </thead>\n",
       "  <tbody>\n",
       "    <tr>\n",
       "      <th>0</th>\n",
       "      <td>Animal</td>\n",
       "      <td>Other Animal</td>\n",
       "      <td>Unregistered</td>\n",
       "      <td>MORNINGSIDE</td>\n",
       "      <td>2018-05-01</td>\n",
       "    </tr>\n",
       "    <tr>\n",
       "      <th>1</th>\n",
       "      <td>Animal</td>\n",
       "      <td>Other Animal</td>\n",
       "      <td>Fox</td>\n",
       "      <td>GUMDALE</td>\n",
       "      <td>2018-05-01</td>\n",
       "    </tr>\n",
       "    <tr>\n",
       "      <th>2</th>\n",
       "      <td>Animal</td>\n",
       "      <td>Cat</td>\n",
       "      <td>NaN</td>\n",
       "      <td>CARSELDINE</td>\n",
       "      <td>2018-05-01</td>\n",
       "    </tr>\n",
       "    <tr>\n",
       "      <th>3</th>\n",
       "      <td>Animal</td>\n",
       "      <td>Dog</td>\n",
       "      <td>Fencing Issues</td>\n",
       "      <td>ZILLMERE</td>\n",
       "      <td>2018-05-01</td>\n",
       "    </tr>\n",
       "    <tr>\n",
       "      <th>4</th>\n",
       "      <td>Animal</td>\n",
       "      <td>Dog</td>\n",
       "      <td>Odour</td>\n",
       "      <td>CAMP HILL</td>\n",
       "      <td>2018-05-01</td>\n",
       "    </tr>\n",
       "    <tr>\n",
       "      <th>...</th>\n",
       "      <td>...</td>\n",
       "      <td>...</td>\n",
       "      <td>...</td>\n",
       "      <td>...</td>\n",
       "      <td>...</td>\n",
       "    </tr>\n",
       "    <tr>\n",
       "      <th>2141</th>\n",
       "      <td>Animal</td>\n",
       "      <td>Attack</td>\n",
       "      <td>Attack On An Animal</td>\n",
       "      <td>ENOGGERA</td>\n",
       "      <td>2020-02-01</td>\n",
       "    </tr>\n",
       "    <tr>\n",
       "      <th>2142</th>\n",
       "      <td>Animal</td>\n",
       "      <td>Dog</td>\n",
       "      <td>Wandering</td>\n",
       "      <td>EVERTON PARK</td>\n",
       "      <td>2020-02-01</td>\n",
       "    </tr>\n",
       "    <tr>\n",
       "      <th>2143</th>\n",
       "      <td>Animal</td>\n",
       "      <td>Cat</td>\n",
       "      <td>Wandering</td>\n",
       "      <td>BRACKEN RIDGE</td>\n",
       "      <td>2020-02-01</td>\n",
       "    </tr>\n",
       "    <tr>\n",
       "      <th>2144</th>\n",
       "      <td>Animal</td>\n",
       "      <td>Dog</td>\n",
       "      <td>Fencing Issues</td>\n",
       "      <td>INALA</td>\n",
       "      <td>2020-02-01</td>\n",
       "    </tr>\n",
       "    <tr>\n",
       "      <th>2145</th>\n",
       "      <td>Animal</td>\n",
       "      <td>Other Animal</td>\n",
       "      <td>Fencing Issues</td>\n",
       "      <td>GORDON PARK</td>\n",
       "      <td>2020-02-01</td>\n",
       "    </tr>\n",
       "  </tbody>\n",
       "</table>\n",
       "<p>15274 rows × 5 columns</p>\n",
       "</div>"
      ],
      "text/plain": [
       "     Category: Nature Category: Type Category: Reporting Level  \\\n",
       "0              Animal   Other Animal              Unregistered   \n",
       "1              Animal   Other Animal                       Fox   \n",
       "2              Animal            Cat                       NaN   \n",
       "3              Animal            Dog            Fencing Issues   \n",
       "4              Animal            Dog                     Odour   \n",
       "...               ...            ...                       ...   \n",
       "2141           Animal         Attack       Attack On An Animal   \n",
       "2142           Animal            Dog                 Wandering   \n",
       "2143           Animal            Cat                 Wandering   \n",
       "2144           Animal            Dog            Fencing Issues   \n",
       "2145           Animal   Other Animal            Fencing Issues   \n",
       "\n",
       "     Location: Suburb       Date  \n",
       "0         MORNINGSIDE 2018-05-01  \n",
       "1             GUMDALE 2018-05-01  \n",
       "2          CARSELDINE 2018-05-01  \n",
       "3            ZILLMERE 2018-05-01  \n",
       "4           CAMP HILL 2018-05-01  \n",
       "...               ...        ...  \n",
       "2141         ENOGGERA 2020-02-01  \n",
       "2142     EVERTON PARK 2020-02-01  \n",
       "2143    BRACKEN RIDGE 2020-02-01  \n",
       "2144            INALA 2020-02-01  \n",
       "2145      GORDON PARK 2020-02-01  \n",
       "\n",
       "[15274 rows x 5 columns]"
      ]
     },
     "execution_count": 68,
     "metadata": {},
     "output_type": "execute_result"
    }
   ],
   "source": [
    "jan18_to_mar_20"
   ]
  },
  {
   "cell_type": "markdown",
   "metadata": {},
   "source": [
    "One notable thing stands out already. While a few Category: Reporting Level pieces are missing, a look at the data shows that this is only sometimes an issue - sometimes it's just that the Type has no Reporting Level below it - Cat Trapping is one example. However, given that this data is primarily useful and interesting on a *suburb* level, the 200 or so rows without suburb data are almost completely useless."
   ]
  },
  {
   "cell_type": "code",
   "execution_count": 70,
   "metadata": {},
   "outputs": [],
   "source": [
    "jan18_to_mar_20.to_csv(\"jan18_to_mar_20.csv\", index=False)"
   ]
  },
  {
   "cell_type": "code",
   "execution_count": 61,
   "metadata": {},
   "outputs": [
    {
     "data": {
      "text/plain": [
       "<bound method Series.dropna of 0         MORNINGSIDE\n",
       "1             GUMDALE\n",
       "2          CARSELDINE\n",
       "3            ZILLMERE\n",
       "4           CAMP HILL\n",
       "            ...      \n",
       "2141         ENOGGERA\n",
       "2142     EVERTON PARK\n",
       "2143    BRACKEN RIDGE\n",
       "2144            INALA\n",
       "2145      GORDON PARK\n",
       "Name: Location: Suburb, Length: 15274, dtype: object>"
      ]
     },
     "execution_count": 61,
     "metadata": {},
     "output_type": "execute_result"
    }
   ],
   "source": []
  },
  {
   "cell_type": "code",
   "execution_count": null,
   "metadata": {},
   "outputs": [],
   "source": []
  }
 ],
 "metadata": {
  "kernelspec": {
   "display_name": "Python 3",
   "language": "python",
   "name": "python3"
  },
  "language_info": {
   "codemirror_mode": {
    "name": "ipython",
    "version": 3
   },
   "file_extension": ".py",
   "mimetype": "text/x-python",
   "name": "python",
   "nbconvert_exporter": "python",
   "pygments_lexer": "ipython3",
   "version": "3.7.6"
  }
 },
 "nbformat": 4,
 "nbformat_minor": 4
}
